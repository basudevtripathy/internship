{
 "cells": [
  {
   "cell_type": "markdown",
   "id": "43ed3815",
   "metadata": {},
   "source": [
    "Ques 1-Write a Python program to check that a string contains only a certain set of characters (in this case a-z, A-Z and 0-9"
   ]
  },
  {
   "cell_type": "code",
   "execution_count": 1,
   "id": "0e85bc37",
   "metadata": {},
   "outputs": [],
   "source": [
    "import re\n",
    "\n",
    "def check_string_characters(string):\n",
    "    pattern = r'^[a-zA-Z0-9]+$'\n",
    "    return re.match(pattern, string) is not None"
   ]
  },
  {
   "cell_type": "code",
   "execution_count": 2,
   "id": "641565d3",
   "metadata": {},
   "outputs": [],
   "source": [
    "string1 = \"Hello123\"\n",
    "string2 = \"Hello_123\""
   ]
  },
  {
   "cell_type": "code",
   "execution_count": 3,
   "id": "9f955083",
   "metadata": {},
   "outputs": [
    {
     "name": "stdout",
     "output_type": "stream",
     "text": [
      "True\n"
     ]
    }
   ],
   "source": [
    "print(check_string_characters(string1))"
   ]
  },
  {
   "cell_type": "code",
   "execution_count": 4,
   "id": "2b853566",
   "metadata": {},
   "outputs": [
    {
     "name": "stdout",
     "output_type": "stream",
     "text": [
      "False\n"
     ]
    }
   ],
   "source": [
    "print(check_string_characters(string2))"
   ]
  },
  {
   "cell_type": "markdown",
   "id": "4454ff63",
   "metadata": {},
   "source": [
    "Ques-2-Create a function in python that matches a string that has an a followed by zero or more b's"
   ]
  },
  {
   "cell_type": "code",
   "execution_count": 9,
   "id": "4fb9d989",
   "metadata": {},
   "outputs": [],
   "source": [
    "import re\n",
    "\n",
    "def match_string(string):\n",
    "    pattern = r'^ab*$'\n",
    "    return re.match(pattern, string) is not None"
   ]
  },
  {
   "cell_type": "code",
   "execution_count": 10,
   "id": "dbec8545",
   "metadata": {},
   "outputs": [],
   "source": [
    "string1 = \"ab\"\n",
    "string2 = \"abb\"\n",
    "string3 = \"ac\"\n",
    "string4 = \"a\""
   ]
  },
  {
   "cell_type": "code",
   "execution_count": 11,
   "id": "2c846ff3",
   "metadata": {},
   "outputs": [
    {
     "name": "stdout",
     "output_type": "stream",
     "text": [
      "True\n",
      "True\n",
      "False\n",
      "True\n"
     ]
    }
   ],
   "source": [
    "print(match_string(string1))\n",
    "print(match_string(string2))\n",
    "print(match_string(string3))\n",
    "print(match_string(string4))"
   ]
  },
  {
   "cell_type": "markdown",
   "id": "3ecce965",
   "metadata": {},
   "source": [
    "Ques3-Create a function in python that matches a string that has an a followed by one or more b's"
   ]
  },
  {
   "cell_type": "code",
   "execution_count": 12,
   "id": "c9db21d7",
   "metadata": {},
   "outputs": [],
   "source": [
    "import re\n",
    "\n",
    "def match_string(string):\n",
    "    pattern = r'^ab+$'\n",
    "    return re.match(pattern, string) is not None"
   ]
  },
  {
   "cell_type": "code",
   "execution_count": 13,
   "id": "01a2dca5",
   "metadata": {},
   "outputs": [],
   "source": [
    "string1 = \"ab\"\n",
    "string2 = \"abb\"\n",
    "string3 = \"ac\""
   ]
  },
  {
   "cell_type": "code",
   "execution_count": 36,
   "id": "e6802fd1",
   "metadata": {},
   "outputs": [
    {
     "name": "stdout",
     "output_type": "stream",
     "text": [
      "False\n",
      "False\n",
      "False\n"
     ]
    }
   ],
   "source": [
    "print(match_string(string1))\n",
    "print(match_string(string2))\n",
    "print(match_string(string3))\n"
   ]
  },
  {
   "cell_type": "markdown",
   "id": "e0d7f40b",
   "metadata": {},
   "source": [
    "Ques 4-Create a function in Python and use RegEx that matches a string that has an a followed by zero or one 'b'."
   ]
  },
  {
   "cell_type": "code",
   "execution_count": 15,
   "id": "188210ee",
   "metadata": {},
   "outputs": [],
   "source": [
    "import re\n",
    "\n",
    "def match_string(string):\n",
    "    pattern = r'^ab?$'\n",
    "    return re.match(pattern, string) is not None"
   ]
  },
  {
   "cell_type": "code",
   "execution_count": 16,
   "id": "e0159a40",
   "metadata": {},
   "outputs": [],
   "source": [
    "string1 = \"a\"\n",
    "string2 = \"ab\"\n",
    "string3 = \"abb\"\n",
    "string4 = \"ac\""
   ]
  },
  {
   "cell_type": "code",
   "execution_count": 17,
   "id": "510f5f20",
   "metadata": {},
   "outputs": [
    {
     "name": "stdout",
     "output_type": "stream",
     "text": [
      "True\n",
      "True\n",
      "False\n",
      "False\n"
     ]
    }
   ],
   "source": [
    "print(match_string(string1))\n",
    "print(match_string(string2))\n",
    "print(match_string(string3))\n",
    "print(match_string(string4))"
   ]
  },
  {
   "cell_type": "markdown",
   "id": "06f30a1e",
   "metadata": {},
   "source": [
    "Ques 5-Write a Python program that matches a string that has an a followed by three 'b'"
   ]
  },
  {
   "cell_type": "code",
   "execution_count": 18,
   "id": "27f1e8f8",
   "metadata": {},
   "outputs": [],
   "source": [
    "import re\n",
    "\n",
    "def match_string(string):\n",
    "    pattern = r'^abb$'\n",
    "    return re.match(pattern, string) is not None"
   ]
  },
  {
   "cell_type": "code",
   "execution_count": 19,
   "id": "89c79e0e",
   "metadata": {},
   "outputs": [],
   "source": [
    "string1 = \"abb\"\n",
    "string2 = \"aabbb\"\n",
    "string3 = \"abbb\"\n",
    "string4 = \"abc\""
   ]
  },
  {
   "cell_type": "code",
   "execution_count": 20,
   "id": "2dafa51f",
   "metadata": {},
   "outputs": [
    {
     "name": "stdout",
     "output_type": "stream",
     "text": [
      "True\n",
      "False\n",
      "False\n",
      "False\n"
     ]
    }
   ],
   "source": [
    "print(match_string(string1))\n",
    "print(match_string(string2))\n",
    "print(match_string(string3))\n",
    "print(match_string(string4))"
   ]
  },
  {
   "cell_type": "markdown",
   "id": "7fc7091d",
   "metadata": {},
   "source": [
    "Question 6- Write a regular expression in Python to split a string into uppercase letters."
   ]
  },
  {
   "cell_type": "code",
   "execution_count": 21,
   "id": "082b9aae",
   "metadata": {},
   "outputs": [],
   "source": [
    "import re\n",
    "\n",
    "def split_uppercase(string):\n",
    "    pattern = r'(?=[A-Z])'\n",
    "    return re.split(pattern, string)"
   ]
  },
  {
   "cell_type": "code",
   "execution_count": 23,
   "id": "0a540133",
   "metadata": {},
   "outputs": [
    {
     "name": "stdout",
     "output_type": "stream",
     "text": [
      "['', 'My', 'Name', 'Is', 'Basudev', 'Tripathy']\n"
     ]
    }
   ],
   "source": [
    "string =\"MyNameIsBasudevTripathy\"\n",
    "result = split_uppercase(string)\n",
    "print(result) "
   ]
  },
  {
   "cell_type": "markdown",
   "id": "6b14c32a",
   "metadata": {},
   "source": [
    "Question 7- Write a Python program that matches a string that has an a followed by two to three 'b'."
   ]
  },
  {
   "cell_type": "code",
   "execution_count": 24,
   "id": "893bf487",
   "metadata": {},
   "outputs": [],
   "source": [
    "import re\n",
    "\n",
    "def match_string(string):\n",
    "    pattern = r'^ab{2,3}$'\n",
    "    return re.match(pattern, string) is not None"
   ]
  },
  {
   "cell_type": "code",
   "execution_count": 25,
   "id": "638330ca",
   "metadata": {},
   "outputs": [],
   "source": [
    "string1 = \"abb\"\n",
    "string2 = \"abbb\"\n",
    "string3 = \"abbbb\"\n",
    "string4 = \"ab\""
   ]
  },
  {
   "cell_type": "code",
   "execution_count": 26,
   "id": "50606f05",
   "metadata": {},
   "outputs": [
    {
     "name": "stdout",
     "output_type": "stream",
     "text": [
      "True\n",
      "True\n",
      "False\n",
      "False\n"
     ]
    }
   ],
   "source": [
    "print(match_string(string1))\n",
    "print(match_string(string2))\n",
    "print(match_string(string3))\n",
    "print(match_string(string4))"
   ]
  },
  {
   "cell_type": "markdown",
   "id": "d18a1652",
   "metadata": {},
   "source": [
    "Question-8 Write a Python program to find sequences of lowercase letters joined with a underscore."
   ]
  },
  {
   "cell_type": "code",
   "execution_count": 27,
   "id": "3b03b860",
   "metadata": {},
   "outputs": [],
   "source": [
    "import re\n",
    "\n",
    "def find_sequences(string):\n",
    "    pattern = r'[a-z]+(?:_[a-z]+)+'\n",
    "    return re.findall(pattern, string)"
   ]
  },
  {
   "cell_type": "code",
   "execution_count": 28,
   "id": "79f5fcbd",
   "metadata": {},
   "outputs": [
    {
     "name": "stdout",
     "output_type": "stream",
     "text": [
      "['my_name_is_basudev', 'i_want_to_be_a_dataanalyst']\n"
     ]
    }
   ],
   "source": [
    "string = \"my_name_is_basudev and i_want_to_be_a_dataanalyst\"\n",
    "sequences = find_sequences(string)\n",
    "print(sequences)"
   ]
  },
  {
   "cell_type": "markdown",
   "id": "3f55cc55",
   "metadata": {},
   "source": [
    "Question 9- Write a Python program that matches a string that has an 'a' followed by anything, ending in 'b'."
   ]
  },
  {
   "cell_type": "code",
   "execution_count": 29,
   "id": "f2fa9418",
   "metadata": {},
   "outputs": [],
   "source": [
    "import re\n",
    "\n",
    "def match_string(string):\n",
    "    pattern = r'^a.*b$'\n",
    "    return re.match(pattern, string) is not None"
   ]
  },
  {
   "cell_type": "code",
   "execution_count": 30,
   "id": "f3d8db2e",
   "metadata": {},
   "outputs": [],
   "source": [
    "string1 = \"aabcdb\"\n",
    "string2 = \"axyzb\"\n",
    "string3 = \"abcde\""
   ]
  },
  {
   "cell_type": "code",
   "execution_count": 31,
   "id": "fbb6cfd6",
   "metadata": {},
   "outputs": [
    {
     "name": "stdout",
     "output_type": "stream",
     "text": [
      "True\n",
      "True\n",
      "False\n"
     ]
    }
   ],
   "source": [
    "print(match_string(string1))\n",
    "print(match_string(string2))\n",
    "print(match_string(string3))"
   ]
  },
  {
   "cell_type": "markdown",
   "id": "1ad52d9c",
   "metadata": {},
   "source": [
    "Question 10- Write a Python program that matches a word at the beginning of a string."
   ]
  },
  {
   "cell_type": "code",
   "execution_count": 32,
   "id": "0f50d64d",
   "metadata": {},
   "outputs": [],
   "source": [
    "import re\n",
    "\n",
    "def match_word_at_beginning(word, string):\n",
    "    pattern = r'^' + word\n",
    "    return re.match(pattern, string) is not None"
   ]
  },
  {
   "cell_type": "code",
   "execution_count": 33,
   "id": "a9ac8d9c",
   "metadata": {},
   "outputs": [],
   "source": [
    "word1 = \"ram\"\n",
    "word2 = \"shyam\"\n",
    "string1 = \"ram dataanalyst\"\n",
    "string2 = \"shyam doctor\""
   ]
  },
  {
   "cell_type": "code",
   "execution_count": 34,
   "id": "41f23e11",
   "metadata": {},
   "outputs": [
    {
     "name": "stdout",
     "output_type": "stream",
     "text": [
      "True\n",
      "False\n",
      "False\n",
      "True\n"
     ]
    }
   ],
   "source": [
    "print(match_word_at_beginning(word1, string1))\n",
    "print(match_word_at_beginning(word1, string2))\n",
    "print(match_word_at_beginning(word2, string1))\n",
    "print(match_word_at_beginning(word2, string2)) "
   ]
  },
  {
   "cell_type": "markdown",
   "id": "7217b1b1",
   "metadata": {},
   "source": [
    "Question 12- Write a Python program where a string will start with a specific number. "
   ]
  },
  {
   "cell_type": "code",
   "execution_count": 37,
   "id": "0a35e949",
   "metadata": {},
   "outputs": [],
   "source": [
    "import re\n",
    "\n",
    "def match_word_at_beginning(word, string):\n",
    "    pattern = r'^' + word\n",
    "    return re.match(pattern, string) is not None\n",
    "\n",
    "word1 = \"ram\"\n",
    "word2 = \"shyam\"\n",
    "string1 = \"ram dataanalyst\"\n",
    "string2 = \"shyam doctor\""
   ]
  },
  {
   "cell_type": "code",
   "execution_count": 38,
   "id": "892a80e7",
   "metadata": {},
   "outputs": [
    {
     "name": "stdout",
     "output_type": "stream",
     "text": [
      "True\n",
      "False\n",
      "False\n",
      "True\n"
     ]
    }
   ],
   "source": [
    "print(match_word_at_beginning(word1, string1))\n",
    "print(match_word_at_beginning(word1, string2))\n",
    "print(match_word_at_beginning(word2, string1))\n",
    "print(match_word_at_beginning(word2, string2))"
   ]
  },
  {
   "cell_type": "markdown",
   "id": "6d617238",
   "metadata": {},
   "source": [
    "Question 19- Write a Python program to convert a date of yyyy-mm-dd format to dd-mm-yyyy format."
   ]
  },
  {
   "cell_type": "code",
   "execution_count": 39,
   "id": "1e1e74bb",
   "metadata": {},
   "outputs": [],
   "source": [
    "def convert_date_format(date):\n",
    "    parts = date.split(\"-\")\n",
    "    if len(parts) == 3:\n",
    "        year, month, day = parts\n",
    "        return f\"{day}-{month}-{year}\"\n",
    "    else:\n",
    "        return None"
   ]
  },
  {
   "cell_type": "code",
   "execution_count": 40,
   "id": "572d4242",
   "metadata": {},
   "outputs": [],
   "source": [
    "date1 = \"2023-07-16\"\n",
    "date2 = \"2023-07-17\""
   ]
  },
  {
   "cell_type": "code",
   "execution_count": 41,
   "id": "50ba1040",
   "metadata": {},
   "outputs": [],
   "source": [
    "converted_date1 = convert_date_format(date1)\n",
    "converted_date2 = convert_date_format(date2)"
   ]
  },
  {
   "cell_type": "code",
   "execution_count": 42,
   "id": "42f19582",
   "metadata": {},
   "outputs": [
    {
     "name": "stdout",
     "output_type": "stream",
     "text": [
      "16-07-2023\n",
      "17-07-2023\n"
     ]
    }
   ],
   "source": [
    "print(converted_date1)\n",
    "print(converted_date2)"
   ]
  },
  {
   "cell_type": "markdown",
   "id": "a5f5cb64",
   "metadata": {},
   "source": [
    "Question 20- Write a Python program to find all words starting with 'a' or 'e' in a given string."
   ]
  },
  {
   "cell_type": "code",
   "execution_count": 43,
   "id": "64928898",
   "metadata": {},
   "outputs": [],
   "source": [
    "import re\n",
    "\n",
    "def find_words_starting_with_a_or_e(string):\n",
    "    pattern = r'\\b[ae]\\w+\\b'\n",
    "    words = re.findall(pattern, string, re.IGNORECASE)\n",
    "    return words"
   ]
  },
  {
   "cell_type": "code",
   "execution_count": 44,
   "id": "bbd9fa06",
   "metadata": {},
   "outputs": [
    {
     "name": "stdout",
     "output_type": "stream",
     "text": [
      "['An', 'elephant', 'eats', 'an', 'apple', 'and']\n"
     ]
    }
   ],
   "source": [
    "string = \"An elephant eats an apple and gone to the jungle.\"\n",
    "words = find_words_starting_with_a_or_e(string)\n",
    "print(words)"
   ]
  },
  {
   "cell_type": "markdown",
   "id": "7a14ca60",
   "metadata": {},
   "source": [
    "Question 21- Write a Python program to separate and print the numbers and their position of a given string."
   ]
  },
  {
   "cell_type": "code",
   "execution_count": null,
   "id": "44cddee9",
   "metadata": {},
   "outputs": [],
   "source": []
  }
 ],
 "metadata": {
  "kernelspec": {
   "display_name": "Python 3 (ipykernel)",
   "language": "python",
   "name": "python3"
  },
  "language_info": {
   "codemirror_mode": {
    "name": "ipython",
    "version": 3
   },
   "file_extension": ".py",
   "mimetype": "text/x-python",
   "name": "python",
   "nbconvert_exporter": "python",
   "pygments_lexer": "ipython3",
   "version": "3.9.12"
  }
 },
 "nbformat": 4,
 "nbformat_minor": 5
}
